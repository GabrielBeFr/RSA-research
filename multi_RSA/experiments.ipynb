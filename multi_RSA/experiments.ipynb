{
 "cells": [
  {
   "cell_type": "code",
   "execution_count": 15,
   "metadata": {},
   "outputs": [
    {
     "name": "stdout",
     "output_type": "stream",
     "text": [
      "prior: tensor([[[0.0000, 0.0000, 0.0500, 0.0000],\n",
      "         [0.0000, 0.0000, 0.0000, 0.0500],\n",
      "         [0.0000, 0.0000, 0.0500, 0.0000],\n",
      "         [0.0500, 0.0000, 0.0000, 0.0000]],\n",
      "\n",
      "        [[0.0000, 0.0500, 0.0000, 0.0000],\n",
      "         [0.0000, 0.0000, 0.0000, 0.0500],\n",
      "         [0.0000, 0.0000, 0.0000, 0.0500],\n",
      "         [0.0000, 0.0500, 0.0000, 0.0000]],\n",
      "\n",
      "        [[0.0000, 0.0500, 0.0000, 0.0000],\n",
      "         [0.0500, 0.0000, 0.0000, 0.0000],\n",
      "         [0.0500, 0.0000, 0.0000, 0.0000],\n",
      "         [0.0000, 0.0500, 0.0000, 0.0000]],\n",
      "\n",
      "        [[0.0000, 0.0000, 0.0500, 0.0000],\n",
      "         [0.0500, 0.0000, 0.0000, 0.0000],\n",
      "         [0.0000, 0.0000, 0.0500, 0.0000],\n",
      "         [0.0500, 0.0000, 0.0000, 0.0000]],\n",
      "\n",
      "        [[0.0500, 0.0000, 0.0000, 0.0000],\n",
      "         [0.0000, 0.0000, 0.0000, 0.0500],\n",
      "         [0.0500, 0.0000, 0.0000, 0.0000],\n",
      "         [0.0500, 0.0000, 0.0000, 0.0000]]])\n",
      "\n",
      "lexicon_A: tensor([[0, 1, 1],\n",
      "        [1, 0, 1],\n",
      "        [1, 0, 0],\n",
      "        [0, 1, 0],\n",
      "        [0, 0, 1]])\n",
      "\n",
      "lexicon_B: tensor([[1, 1, 0],\n",
      "        [0, 0, 1],\n",
      "        [0, 1, 0],\n",
      "        [1, 0, 0]])\n",
      "\n"
     ]
    }
   ],
   "source": [
    "import torch\n",
    "\n",
    "meanings_A = [\"BAA\", \"ABA\", \"ABB\", \"BAB\", \"BBA\"]\n",
    "meanings_B = [\"112\", \"221\", \"212\", \"122\"]\n",
    "Y = [\"There is no (A,1) pair\", \"1st position\", \"2nd position\", \"3rd position\"] # the question we try to answer is what is the position of the A,1 pair.\n",
    "prior = torch.tensor([\n",
    "    [[0, 0, 1, 0], [0, 0, 0, 1], [0, 0, 1, 0], [1, 0, 0, 0]],\n",
    "    [[0, 1, 0, 0], [0, 0, 0, 1], [0, 0, 0, 1], [0, 1, 0, 0]],\n",
    "    [[0, 1, 0, 0], [1, 0, 0, 0], [1, 0, 0, 0], [0, 1, 0, 0]],\n",
    "    [[0, 0, 1, 0], [1, 0, 0, 0], [0, 0, 1, 0], [1, 0, 0, 0]],\n",
    "    [[1, 0, 0, 0], [0, 0, 0, 1], [1, 0, 0, 0], [1, 0, 0, 0]],\n",
    "    ])\n",
    "initial_prior = prior * 1/len(meanings_A) * 1/len(meanings_B)\n",
    "\n",
    "utterances_A = [\"1st position\", \"2nd position\", \"3rd position\"]\n",
    "utterances_B = [\"1st position\", \"2nd position\", \"3rd position\"]\n",
    "\n",
    "lexicon_A = torch.tensor([\n",
    "    [0, 1, 1], \n",
    "    [1, 0, 1], \n",
    "    [1, 0, 0],\n",
    "    [0, 1, 0],\n",
    "    [0, 0, 1],\n",
    "    ])\n",
    "\n",
    "lexicon_B = torch.tensor([\n",
    "    [1, 1, 0], \n",
    "    [0, 0, 1], \n",
    "    [0, 1, 0],\n",
    "    [1, 0, 0],\n",
    "    ])\n",
    "\n",
    "initial_lexica = [lexicon_A, lexicon_B]\n",
    "\n",
    "print(f'prior: {prior}\\n')\n",
    "print(f'lexicon_A: {lexicon_A}\\n')\n",
    "print(f'lexicon_B: {lexicon_B}\\n')"
   ]
  },
  {
   "cell_type": "code",
   "execution_count": 8,
   "metadata": {},
   "outputs": [
    {
     "name": "stdout",
     "output_type": "stream",
     "text": [
      "tensor([[[0.0000, 0.0000, 0.0500, 0.0000],\n",
      "         [0.0000, 0.0000, 0.0000, 0.0500],\n",
      "         [0.0000, 0.0000, 0.0500, 0.0000],\n",
      "         [0.0500, 0.0000, 0.0000, 0.0000]],\n",
      "\n",
      "        [[0.0000, 0.0500, 0.0000, 0.0000],\n",
      "         [0.0000, 0.0000, 0.0000, 0.0500],\n",
      "         [0.0000, 0.0000, 0.0000, 0.0500],\n",
      "         [0.0000, 0.0500, 0.0000, 0.0000]],\n",
      "\n",
      "        [[0.0000, 0.0500, 0.0000, 0.0000],\n",
      "         [0.0500, 0.0000, 0.0000, 0.0000],\n",
      "         [0.0500, 0.0000, 0.0000, 0.0000],\n",
      "         [0.0000, 0.0500, 0.0000, 0.0000]],\n",
      "\n",
      "        [[0.0000, 0.0000, 0.0500, 0.0000],\n",
      "         [0.0500, 0.0000, 0.0000, 0.0000],\n",
      "         [0.0000, 0.0000, 0.0500, 0.0000],\n",
      "         [0.0500, 0.0000, 0.0000, 0.0000]],\n",
      "\n",
      "        [[0.0500, 0.0000, 0.0000, 0.0000],\n",
      "         [0.0000, 0.0000, 0.0000, 0.0500],\n",
      "         [0.0500, 0.0000, 0.0000, 0.0000],\n",
      "         [0.0500, 0.0000, 0.0000, 0.0000]]], device='cuda:0')\n"
     ]
    }
   ],
   "source": [
    "print(torch.exp(torch.log(initial_prior)))"
   ]
  },
  {
   "cell_type": "code",
   "execution_count": 10,
   "metadata": {},
   "outputs": [
    {
     "name": "stderr",
     "output_type": "stream",
     "text": [
      "2024-09-05 19:15:49,026 - INFO - Agent A observes: \u001b[94mBBA / id=4 \u001b[0mand Agent B observes: \u001b[94m212 / id=2\u001b[0m\n",
      "2024-09-05 19:15:49,087 - INFO - Estimated meaning by Agent B: \u001b[96mThere is no (A,1) pair\u001b[0m\n",
      "2024-09-05 19:15:49,092 - INFO - Estimated meaning by Agent A: \u001b[91mThere is no (A,1) pair\u001b[0m\n"
     ]
    },
    {
     "name": "stdout",
     "output_type": "stream",
     "text": [
      "Using device: cuda\n"
     ]
    }
   ],
   "source": [
    "from main import main\n",
    "import torch\n",
    "import random\n",
    "\n",
    "# Check if GPU is available\n",
    "device = torch.device(\"cuda\" if torch.cuda.is_available() else \"cpu\")\n",
    "print(\"Using device:\", device)\n",
    "\n",
    "# Model of the game\n",
    "meanings_A = [\"BAA\", \"ABA\", \"ABB\", \"BAB\", \"BBA\"]\n",
    "meanings_B = [\"112\", \"221\", \"212\", \"122\"]\n",
    "utterances_A = [\"1st position\", \"2nd position\", \"3rd position\"]\n",
    "utterances_B = [\"1st position\", \"2nd position\", \"3rd position\"]\n",
    "Y = [\"There is no (A,1) pair\", \"1st position\", \"2nd position\", \"3rd position\"] # the question we try to answer is what is the position of the A,1 pair.\n",
    "game_model = {\"mA\": meanings_A, \"mB\": meanings_B, \"u\": utterances_A, \"v\": utterances_B, \"y\": Y}\n",
    "\n",
    "# Define the prior\n",
    "prior = torch.tensor([\n",
    "    [[0, 0, 1, 0], [0, 0, 0, 1], [0, 0, 1, 0], [1, 0, 0, 0]],\n",
    "    [[0, 1, 0, 0], [0, 0, 0, 1], [0, 0, 0, 1], [0, 1, 0, 0]],\n",
    "    [[0, 1, 0, 0], [1, 0, 0, 0], [1, 0, 0, 0], [0, 1, 0, 0]],\n",
    "    [[0, 0, 1, 0], [1, 0, 0, 0], [0, 0, 1, 0], [1, 0, 0, 0]],\n",
    "    [[1, 0, 0, 0], [0, 0, 0, 1], [1, 0, 0, 0], [1, 0, 0, 0]],\n",
    "    ], device=device, dtype=torch.float32)\n",
    "\n",
    "initial_prior = prior * 1/len(meanings_A) * 1/len(meanings_B)\n",
    "\n",
    "# Define the lexica\n",
    "lexicon_A = torch.tensor([\n",
    "    [0, 1, 1], \n",
    "    [1, 0, 1], \n",
    "    [1, 0, 0],\n",
    "    [0, 1, 0],\n",
    "    [0, 0, 1],\n",
    "    ], device=device, dtype=torch.float32)\n",
    "\n",
    "lexicon_B = torch.tensor([\n",
    "    [1, 1, 0], \n",
    "    [0, 0, 1], \n",
    "    [0, 1, 0],\n",
    "    [1, 0, 0],\n",
    "    ], device=device, dtype=torch.float32)\n",
    "\n",
    "initial_lexica = [lexicon_A, lexicon_B]\n",
    "\n",
    "# Fix the meanings observed by the agents\n",
    "# Define the parameters\n",
    "meanings = [random.randint(0, len(meanings_A)-1), random.randint(0, len(meanings_B)-1)]\n",
    "# meanings = [3, 1]\n",
    "\n",
    "alpha = 1\n",
    "number_of_rounds = 10\n",
    "RSA_depth = 1\n",
    "verbose = False \n",
    "\n",
    "main(initial_lexica, initial_prior, meanings, game_model, alpha, number_of_rounds, RSA_depth, device, verbose)"
   ]
  },
  {
   "cell_type": "code",
   "execution_count": 12,
   "metadata": {},
   "outputs": [
    {
     "data": {
      "text/plain": [
       "tensor([2], device='cuda:0')"
      ]
     },
     "execution_count": 12,
     "metadata": {},
     "output_type": "execute_result"
    }
   ],
   "source": [
    "import random\n",
    "\n",
    "X = torch.tensor([[[ 1.0000e+00,  1.0000e+00, -0.0000e+00],\n",
    "         [ 8.2038e-07,  8.2219e-07,  4.0365e-01],\n",
    "         [ 1.2156e-06,  1.2116e-06,  5.9635e-01],\n",
    "         [-0.0000e+00, -0.0000e+00, -0.0000e+00]],\n",
    "        [[-1.2508e-15, -1.2508e-15, -1.2508e-15],\n",
    "         [ 0.0000e+00,  0.0000e+00,  0.0000e+00],\n",
    "         [ 0.0000e+00,  0.0000e+00,  0.0000e+00],\n",
    "         [-5.5305e-06, -5.5305e-06, -1.1249e-11]],\n",
    "        [[-2.1081e-16, -2.1081e-16, -2.3841e-26],\n",
    "         [ 0.0000e+00,  0.0000e+00,  0.0000e+00],\n",
    "         [-2.5626e-22, -2.5543e-22, -2.5575e-22],\n",
    "         [-1.7292e-22, -1.7330e-22, -1.7308e-22]],\n",
    "        [[ 1.0426e+01,  1.0426e+01, -1.3419e-06],\n",
    "         [ 8.5534e-06,  8.5723e-06, -9.0826e-07],\n",
    "         [-0.0000e+00, -0.0000e+00,  0.0000e+00],\n",
    "         [-0.0000e+00, -0.0000e+00,  0.0000e+00]]], device='cuda:0')\n",
    "argmaxes = torch.where(X[0,:,2] == torch.max(X[0,:,2]))[0]\n",
    "argmaxes"
   ]
  },
  {
   "cell_type": "code",
   "execution_count": 21,
   "metadata": {},
   "outputs": [
    {
     "name": "stdout",
     "output_type": "stream",
     "text": [
      "tensor([[[2.9500],\n",
      "         [2.5500]]])\n"
     ]
    },
    {
     "data": {
      "text/plain": [
       "tensor([[[0.0678, 0.1695, 0.1695, 0.0339],\n",
       "         [0.0392, 0.1961, 0.1961, 0.0000]],\n",
       "\n",
       "        [[0.0678, 0.0339, 0.0339, 0.0847],\n",
       "         [0.0784, 0.0000, 0.0000, 0.0980]],\n",
       "\n",
       "        [[0.0847, 0.0847, 0.0847, 0.0847],\n",
       "         [0.0980, 0.0980, 0.0980, 0.0980]]])"
      ]
     },
     "execution_count": 21,
     "metadata": {},
     "output_type": "execute_result"
    }
   ],
   "source": [
    "prior = torch.tensor([[[0.2, 0.5, 0.5, 0.1],\n",
    "                       [0.1, 0.5, 0.5, 0.0]],\n",
    "                       [[0.2, 0.1, 0.1, 0.25],\n",
    "                       [0.2, 0, 0., 0.25]],\n",
    "                       [[0.25, 0.25, 0.25, 0.25],\n",
    "                       [0.25, 0.25, 0.25, 0.25]]])\n",
    "print(prior.sum(dim=2, keepdim=True).sum(dim=0, keepdim=True) + 1e-10)\n",
    "prior/(prior.sum(dim=2, keepdim=True).sum(dim=0, keepdim=True) + 1e-10)"
   ]
  }
 ],
 "metadata": {
  "kernelspec": {
   "display_name": "Python 3",
   "language": "python",
   "name": "python3"
  },
  "language_info": {
   "codemirror_mode": {
    "name": "ipython",
    "version": 3
   },
   "file_extension": ".py",
   "mimetype": "text/x-python",
   "name": "python",
   "nbconvert_exporter": "python",
   "pygments_lexer": "ipython3",
   "version": "3.10.13"
  }
 },
 "nbformat": 4,
 "nbformat_minor": 2
}
